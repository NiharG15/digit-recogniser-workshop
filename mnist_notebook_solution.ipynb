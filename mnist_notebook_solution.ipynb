{
 "cells": [
  {
   "cell_type": "markdown",
   "metadata": {},
   "source": [
    "# Digit Recogniser using Convolutional Neural Network\n",
    "\n",
    "\n",
    "In this workshop we are going a develop and train a deep neural network called convolutional neural network to recognise handwritten digits. We'll be using the MNIST (\"Modified National Institute of Standards and Technology\") dataset, also considered as the \"Hello World\" dataset in computer vision/deep learning. It contains a large set of human handwritten and annotated digit images.\n",
    "\n",
    "By the end of the tutorial you will have learnt how convolutional neural networks work, how to deploy pre-trained model, how to visualise the results. We'll build this neural net using tensorflow and deploy the pretrained model as rest api."
   ]
  },
  {
   "cell_type": "markdown",
   "metadata": {},
   "source": [
    "## Libraries and Verify TensorFlow is Installed\n",
    "\n",
    "We'll start of by first importing the libraries that are required for this project. The Deep learning framework we are using is tensorflow. This is even to check if the correct version of tensorflow is installed."
   ]
  },
  {
   "cell_type": "code",
   "execution_count": 1,
   "metadata": {},
   "outputs": [
    {
     "name": "stdout",
     "output_type": "stream",
     "text": [
      "TensorFlow Version: 1.3.0\n"
     ]
    }
   ],
   "source": [
    "import tensorflow as tf\n",
    "import numpy as np\n",
    "import matplotlib.pyplot as plt\n",
    "from tensorflow.examples.tutorials.mnist import input_data\n",
    "from distutils.version import LooseVersion\n",
    "import warnings\n",
    "\n",
    "# Check TensorFlow Version\n",
    "assert LooseVersion(tf.__version__) >= LooseVersion('1.0'), 'Please use TensorFlow version 1.0 or newer'\n",
    "print('TensorFlow Version: {}'.format(tf.__version__))\n",
    "\n",
    "%matplotlib inline"
   ]
  },
  {
   "cell_type": "markdown",
   "metadata": {},
   "source": [
    "## MNIST Data Set\n",
    "\n",
    "MNIST Data Set is a collection of handwritten digits images comprising 60,000 training images and 10,000 test images. It usually used as a benchmark for the new computer vision and pattern recognition algorithms. The images here have been size-normalised and centered in fixed size image.\n",
    "\n",
    "Tensorflow has a module which helps us download this particular dataset, split it into training set, validation set, test set and creates one-hot vectors for labels of each image. The training set contains 55,000 images, validation set has 5,000 and test set has 10,000 images.\n",
    "\n",
    "**So why is it important to separate data into 3 sets?**\n",
    "\n",
    "These images here are 2D images each consisting an array of 28x28 values that have been flattened to get a rich structure of 784 dimensional vector space"
   ]
  },
  {
   "cell_type": "code",
   "execution_count": 3,
   "metadata": {
    "scrolled": true
   },
   "outputs": [
    {
     "name": "stdout",
     "output_type": "stream",
     "text": [
      "Extracting MNIST_data/train-images-idx3-ubyte.gz\n",
      "Extracting MNIST_data/train-labels-idx1-ubyte.gz\n",
      "Extracting MNIST_data/t10k-images-idx3-ubyte.gz\n",
      "Extracting MNIST_data/t10k-labels-idx1-ubyte.gz\n"
     ]
    }
   ],
   "source": [
    "mnist = input_data.read_data_sets('MNIST_data/', one_hot=True)"
   ]
  },
  {
   "cell_type": "code",
   "execution_count": 3,
   "metadata": {
    "scrolled": true
   },
   "outputs": [
    {
     "name": "stdout",
     "output_type": "stream",
     "text": [
      "No. of Training Examples :  55000\n",
      "No. of Validation Examples :  5000\n",
      "No. of Test Examples :  10000\n",
      "Example of a one-hot encoded vector : \n",
      " [ 0.  0.  0.  0.  0.  0.  0.  1.  0.  0.]\n",
      "Flattened Image Shape :  (784,)\n",
      "Example of a flattened image: \n",
      " [ 0.          0.          0.          0.          0.          0.          0.\n",
      "  0.          0.          0.          0.          0.          0.          0.\n",
      "  0.          0.          0.          0.          0.          0.          0.\n",
      "  0.          0.          0.          0.          0.          0.          0.\n",
      "  0.          0.          0.          0.          0.          0.          0.\n",
      "  0.          0.          0.          0.          0.          0.          0.\n",
      "  0.          0.          0.          0.          0.          0.          0.\n",
      "  0.          0.          0.          0.          0.          0.          0.\n",
      "  0.          0.          0.          0.          0.          0.          0.\n",
      "  0.          0.          0.          0.          0.          0.          0.\n",
      "  0.          0.          0.          0.          0.          0.          0.\n",
      "  0.          0.          0.          0.          0.          0.          0.\n",
      "  0.          0.          0.          0.          0.          0.          0.\n",
      "  0.          0.          0.          0.          0.          0.          0.\n",
      "  0.          0.          0.          0.          0.          0.          0.\n",
      "  0.          0.          0.          0.          0.          0.          0.\n",
      "  0.          0.          0.          0.          0.          0.          0.\n",
      "  0.          0.          0.          0.          0.          0.          0.\n",
      "  0.          0.          0.          0.          0.          0.          0.\n",
      "  0.          0.          0.          0.          0.          0.          0.\n",
      "  0.          0.          0.          0.          0.          0.          0.\n",
      "  0.          0.          0.          0.          0.          0.          0.\n",
      "  0.          0.          0.          0.          0.          0.          0.\n",
      "  0.          0.          0.          0.          0.          0.          0.\n",
      "  0.          0.          0.          0.          0.          0.          0.\n",
      "  0.          0.          0.          0.          0.          0.          0.\n",
      "  0.          0.          0.          0.          0.          0.          0.\n",
      "  0.          0.          0.          0.          0.          0.          0.\n",
      "  0.          0.          0.          0.          0.          0.          0.\n",
      "  0.          0.          0.          0.          0.38039219  0.37647063\n",
      "  0.3019608   0.46274513  0.2392157   0.          0.          0.          0.\n",
      "  0.          0.          0.          0.          0.          0.          0.\n",
      "  0.          0.          0.          0.          0.35294119  0.5411765\n",
      "  0.92156869  0.92156869  0.92156869  0.92156869  0.92156869  0.92156869\n",
      "  0.98431379  0.98431379  0.97254908  0.99607849  0.96078438  0.92156869\n",
      "  0.74509805  0.08235294  0.          0.          0.          0.          0.\n",
      "  0.          0.          0.          0.          0.          0.\n",
      "  0.54901963  0.98431379  0.99607849  0.99607849  0.99607849  0.99607849\n",
      "  0.99607849  0.99607849  0.99607849  0.99607849  0.99607849  0.99607849\n",
      "  0.99607849  0.99607849  0.99607849  0.99607849  0.74117649  0.09019608\n",
      "  0.          0.          0.          0.          0.          0.          0.\n",
      "  0.          0.          0.          0.88627458  0.99607849  0.81568635\n",
      "  0.78039223  0.78039223  0.78039223  0.78039223  0.54509807  0.2392157\n",
      "  0.2392157   0.2392157   0.2392157   0.2392157   0.50196081  0.8705883\n",
      "  0.99607849  0.99607849  0.74117649  0.08235294  0.          0.          0.\n",
      "  0.          0.          0.          0.          0.          0.\n",
      "  0.14901961  0.32156864  0.0509804   0.          0.          0.          0.\n",
      "  0.          0.          0.          0.          0.          0.          0.\n",
      "  0.13333334  0.83529419  0.99607849  0.99607849  0.45098042  0.          0.\n",
      "  0.          0.          0.          0.          0.          0.          0.\n",
      "  0.          0.          0.          0.          0.          0.          0.\n",
      "  0.          0.          0.          0.          0.          0.          0.\n",
      "  0.          0.32941177  0.99607849  0.99607849  0.91764712  0.          0.\n",
      "  0.          0.          0.          0.          0.          0.          0.\n",
      "  0.          0.          0.          0.          0.          0.          0.\n",
      "  0.          0.          0.          0.          0.          0.          0.\n",
      "  0.          0.32941177  0.99607849  0.99607849  0.91764712  0.          0.\n",
      "  0.          0.          0.          0.          0.          0.          0.\n",
      "  0.          0.          0.          0.          0.          0.          0.\n",
      "  0.          0.          0.          0.          0.          0.          0.\n",
      "  0.41568631  0.6156863   0.99607849  0.99607849  0.95294124  0.20000002\n",
      "  0.          0.          0.          0.          0.          0.          0.\n",
      "  0.          0.          0.          0.          0.          0.          0.\n",
      "  0.          0.          0.          0.09803922  0.45882356  0.89411771\n",
      "  0.89411771  0.89411771  0.99215692  0.99607849  0.99607849  0.99607849\n",
      "  0.99607849  0.94117653  0.          0.          0.          0.          0.\n",
      "  0.          0.          0.          0.          0.          0.          0.\n",
      "  0.          0.          0.          0.26666668  0.4666667   0.86274517\n",
      "  0.99607849  0.99607849  0.99607849  0.99607849  0.99607849  0.99607849\n",
      "  0.99607849  0.99607849  0.99607849  0.55686277  0.          0.          0.\n",
      "  0.          0.          0.          0.          0.          0.          0.\n",
      "  0.          0.          0.          0.14509805  0.73333335  0.99215692\n",
      "  0.99607849  0.99607849  0.99607849  0.87450987  0.80784321  0.80784321\n",
      "  0.29411766  0.26666668  0.84313732  0.99607849  0.99607849  0.45882356\n",
      "  0.          0.          0.          0.          0.          0.          0.\n",
      "  0.          0.          0.          0.          0.          0.44313729\n",
      "  0.8588236   0.99607849  0.94901967  0.89019614  0.45098042  0.34901962\n",
      "  0.12156864  0.          0.          0.          0.          0.7843138\n",
      "  0.99607849  0.9450981   0.16078432  0.          0.          0.          0.\n",
      "  0.          0.          0.          0.          0.          0.          0.\n",
      "  0.          0.66274512  0.99607849  0.6901961   0.24313727  0.          0.\n",
      "  0.          0.          0.          0.          0.          0.18823531\n",
      "  0.90588242  0.99607849  0.91764712  0.          0.          0.          0.\n",
      "  0.          0.          0.          0.          0.          0.          0.\n",
      "  0.          0.          0.07058824  0.48627454  0.          0.          0.\n",
      "  0.          0.          0.          0.          0.          0.\n",
      "  0.32941177  0.99607849  0.99607849  0.65098041  0.          0.          0.\n",
      "  0.          0.          0.          0.          0.          0.          0.\n",
      "  0.          0.          0.          0.          0.          0.          0.\n",
      "  0.          0.          0.          0.          0.          0.          0.\n",
      "  0.54509807  0.99607849  0.9333334   0.22352943  0.          0.          0.\n",
      "  0.          0.          0.          0.          0.          0.          0.\n",
      "  0.          0.          0.          0.          0.          0.          0.\n",
      "  0.          0.          0.          0.          0.          0.\n",
      "  0.82352948  0.98039222  0.99607849  0.65882355  0.          0.          0.\n",
      "  0.          0.          0.          0.          0.          0.          0.\n",
      "  0.          0.          0.          0.          0.          0.          0.\n",
      "  0.          0.          0.          0.          0.          0.          0.\n",
      "  0.94901967  0.99607849  0.93725497  0.22352943  0.          0.          0.\n",
      "  0.          0.          0.          0.          0.          0.          0.\n",
      "  0.          0.          0.          0.          0.          0.          0.\n",
      "  0.          0.          0.          0.          0.          0.\n",
      "  0.34901962  0.98431379  0.9450981   0.33725491  0.          0.          0.\n",
      "  0.          0.          0.          0.          0.          0.          0.\n",
      "  0.          0.          0.          0.          0.          0.          0.\n",
      "  0.          0.          0.          0.          0.          0.\n",
      "  0.01960784  0.80784321  0.96470594  0.6156863   0.          0.          0.\n",
      "  0.          0.          0.          0.          0.          0.          0.\n",
      "  0.          0.          0.          0.          0.          0.          0.\n",
      "  0.          0.          0.          0.          0.          0.          0.\n",
      "  0.01568628  0.45882356  0.27058825  0.          0.          0.          0.\n",
      "  0.          0.          0.          0.          0.          0.          0.\n",
      "  0.          0.          0.          0.          0.          0.          0.\n",
      "  0.          0.          0.          0.          0.          0.          0.\n",
      "  0.          0.          0.          0.          0.          0.          0.\n",
      "  0.          0.          0.          0.          0.          0.          0.        ]\n"
     ]
    }
   ],
   "source": [
    "print(\"No. of Training Examples : \",mnist.train.num_examples)\n",
    "print(\"No. of Validation Examples : \",mnist.validation.num_examples)\n",
    "print(\"No. of Test Examples : \",mnist.test.num_examples)\n",
    "print(\"Example of a one-hot encoded vector : \\n\",mnist.train.labels[0])\n",
    "print(\"Flattened Image Shape : \", mnist.train.images[0].shape)\n",
    "print(\"Example of a flattened image: \\n\", mnist.train.images[0])"
   ]
  },
  {
   "cell_type": "code",
   "execution_count": 4,
   "metadata": {},
   "outputs": [
    {
     "data": {
      "image/png": "[encoded data removed]",
      "text/plain": [
       "<matplotlib.figure.Figure at 0x7fdf909012b0>"
      ]
     },
     "metadata": {},
     "output_type": "display_data"
    }
   ],
   "source": [
    "img_array = mnist.train.images[np.random.randint(mnist.train.images.shape[0])]\n",
    "img_array = 255 * img_array\n",
    "img_array = img_array.astype(\"uint8\")\n",
    "#print(img_array.reshape([28,28]))\n",
    "plt.imshow(img_array.reshape([28,28]))\n",
    "plt.gray()\n",
    "plt.grid(True)\n",
    "plt.savefig('test.png')"
   ]
  },
  {
   "cell_type": "markdown",
   "metadata": {},
   "source": [
    "## Build our network\n",
    "\n",
    "You'll have to build the necessary components given below alongwith us for designing the convolutional neural network.\n",
    "- `input_placeholders`\n",
    "- `init_weights_bias`\n",
    "- `conv2d`\n",
    "- `max_pool`\n",
    "- `flatten`\n",
    "- `fcn`\n",
    "- `output`\n",
    "- `cnn`"
   ]
  },
  {
   "cell_type": "markdown",
   "metadata": {},
   "source": [
    "## Inputs\n",
    "\n",
    "Write Something about the 4 placeholders"
   ]
  },
  {
   "cell_type": "code",
   "execution_count": 5,
   "metadata": {
    "collapsed": true
   },
   "outputs": [],
   "source": [
    "def input_placeholders():\n",
    "    \"\"\"\n",
    "    Create TF placeholders for inputs, targets, keep_prob, learning_rate\n",
    "    Return: A Tuple(inputs, targets, keep_prob, learning_rate)\n",
    "    \"\"\"\n",
    "    inputs = tf.placeholder(tf.float32, shape=[None, 784], name=\"Inputs\")\n",
    "    targets = tf.placeholder(tf.float32, shape=[None, 10], name=\"Labels\")\n",
    "    keep_prob = tf.placeholder(tf.float32, name=\"keep_prob\")\n",
    "    learning_rate = tf.placeholder(tf.float32, name=\"learning_rate\")\n",
    "    \n",
    "    return inputs, targets, keep_prob, learning_rate"
   ]
  },
  {
   "cell_type": "markdown",
   "metadata": {},
   "source": [
    "## Initialise Weights and Bias"
   ]
  },
  {
   "cell_type": "code",
   "execution_count": 6,
   "metadata": {
    "collapsed": true
   },
   "outputs": [],
   "source": [
    "def init_weights_bias(w_shape, b_shape):\n",
    "    \"\"\"\n",
    "    \n",
    "    \"\"\"\n",
    "    weights = tf.Variable(tf.truncated_normal(w_shape, stddev=0.1), name=\"weights\")\n",
    "    bias = tf.Variable(tf.truncated_normal(b_shape), name=\"bias\")\n",
    "    return weights, bias"
   ]
  },
  {
   "cell_type": "markdown",
   "metadata": {},
   "source": [
    "## Convolutional Layer\n"
   ]
  },
  {
   "cell_type": "code",
   "execution_count": 7,
   "metadata": {
    "collapsed": true
   },
   "outputs": [],
   "source": [
    "def conv2d(inputs, weights, stride):\n",
    "    \"\"\"\n",
    "    Apply convolution operation to inputs tensor.\n",
    "    inputs: tensorflow tensor\n",
    "    weights: weights initialised for convolution operation\n",
    "    stride: 2d tuple for convolution\n",
    "    \"\"\"\n",
    "    return tf.nn.conv2d(inputs, weights, strides=[1,stride[0], stride[1], 1],name=\"conv\" ,padding=\"SAME\")"
   ]
  },
  {
   "cell_type": "markdown",
   "metadata": {},
   "source": [
    "## Max Pooling Layer"
   ]
  },
  {
   "cell_type": "code",
   "execution_count": 8,
   "metadata": {
    "collapsed": true
   },
   "outputs": [],
   "source": [
    "def max_pool(inputs, kernel_size, stride):\n",
    "    \"\"\"\n",
    "    Apply max pooling operation to inputs tensor.\n",
    "    inputs: tensorflow tensor\n",
    "    kernel_size: 2d tuple for pooling\n",
    "    stride: 2d tuple for pooling\n",
    "    \"\"\"\n",
    "    return tf.nn.max_pool(inputs, ksize=[1, kernel_size[0],kernel_size[1],1], \n",
    "                          strides=[1, stride[0], stride[1], 1], padding=\"SAME\", name=\"max_pool\")"
   ]
  },
  {
   "cell_type": "markdown",
   "metadata": {},
   "source": [
    "## Flatten Layer"
   ]
  },
  {
   "cell_type": "code",
   "execution_count": 9,
   "metadata": {
    "collapsed": true
   },
   "outputs": [],
   "source": [
    "def flatten(inputs):\n",
    "    \"\"\"\n",
    "    Flatten inputs tensor to (batch_size, flattened_image_size).\n",
    "    \"\"\"\n",
    "    shape_ip = inputs.get_shape().as_list()\n",
    "    return tf.reshape(inputs,[-1, shape_ip[1] * shape_ip[2] * shape_ip[3]])"
   ]
  },
  {
   "cell_type": "markdown",
   "metadata": {},
   "source": [
    "## Fully Connected Layer"
   ]
  },
  {
   "cell_type": "code",
   "execution_count": 10,
   "metadata": {
    "collapsed": true
   },
   "outputs": [],
   "source": [
    "def fcn(inputs, num_outputs):\n",
    "    \"\"\"\n",
    "    Apply a fully connected layer to inputs tensor using weights and bias\n",
    "    inputs: tensorflow tensor\n",
    "    num_outputs: number of outputs the new tensor should be.\n",
    "    \"\"\"\n",
    "    weights = tf.Variable(tf.truncated_normal([inputs.get_shape().as_list()[1], num_outputs], stddev=0.1), name=\"weights\")\n",
    "    bias = tf.Variable(tf.truncated_normal([num_outputs]), name=\"bias\")\n",
    "    \n",
    "    fc = tf.add(tf.matmul(inputs, weights), bias)\n",
    "    fc = tf.nn.relu(fc)\n",
    "    \n",
    "    tf.summary.histogram(\"weights\", weights)\n",
    "    tf.summary.histogram(\"biases\", bias)\n",
    "    tf.summary.histogram(\"activations\", fc)\n",
    "    return fc"
   ]
  },
  {
   "cell_type": "markdown",
   "metadata": {},
   "source": [
    "## Output Layer"
   ]
  },
  {
   "cell_type": "code",
   "execution_count": 11,
   "metadata": {
    "collapsed": true
   },
   "outputs": [],
   "source": [
    "def outputs(inputs, num_outputs):\n",
    "    \"\"\"\n",
    "    Apply an output layer to inputs tensor using weights and bias\n",
    "    inputs: tensorflow tensor\n",
    "    num_outputs: number of outputs the new tensor should be.\n",
    "    \"\"\"\n",
    "    weights = tf.Variable(tf.truncated_normal([inputs.get_shape().as_list()[1], num_outputs], stddev=0.1), name=\"weights\")\n",
    "    bias = tf.Variable(tf.truncated_normal([num_outputs]), name=\"weights\")\n",
    "    outputs = tf.add(tf.matmul(inputs, weights), bias, name=\"outputs\")\n",
    "    \n",
    "    tf.summary.histogram(\"weights\", weights)\n",
    "    tf.summary.histogram(\"biases\", bias)\n",
    "    tf.summary.histogram(\"activations\", outputs)\n",
    "    \n",
    "    return outputs"
   ]
  },
  {
   "cell_type": "markdown",
   "metadata": {},
   "source": [
    "## Create Convolutional Model"
   ]
  },
  {
   "cell_type": "code",
   "execution_count": 12,
   "metadata": {
    "collapsed": true
   },
   "outputs": [],
   "source": [
    "def cnn(inputs, keep_prob):\n",
    "    \"\"\"\n",
    "    Create a convolutional model using inputs tensor and use keep_prob while applying dropout \n",
    "    \"\"\"\n",
    "    inputs = tf.reshape(inputs, [-1, 28, 28, 1])\n",
    "    \n",
    "    tf.summary.image('input', inputs, 3)\n",
    "    \n",
    "    #Conv layer 1\n",
    "    with tf.name_scope(\"conv_1\"):\n",
    "        wc1, bc1 = init_weights_bias([5, 5, 1, 32], [32])\n",
    "        c1 = conv2d(inputs, wc1, [1,1])+bc1\n",
    "        r1 = tf.nn.relu(c1)\n",
    "        m1 = max_pool(r1, [2,2], [2,2])\n",
    "    \n",
    "    #Conv layer 2\n",
    "    with tf.name_scope(\"conv_2\"):\n",
    "        wc2, bc2 = init_weights_bias([5,5,32,64],[64])\n",
    "        c2 = conv2d(m1, wc2, [1,1])+bc2\n",
    "        r2 = tf.nn.relu(c2)\n",
    "        m2 = max_pool(r2, [2,2], [2,2])\n",
    "    \n",
    "    #Flatten the output of last conv layer\n",
    "    flat_m2 = flatten(m2)\n",
    "    \n",
    "    #Fully connected layer\n",
    "    with tf.name_scope(\"fc1\"):\n",
    "        fcn1 = fcn(flat_m2, 1024)\n",
    "    \n",
    "    #Dropout\n",
    "    drp1 = tf.nn.dropout(fcn1, keep_prob)\n",
    "    \n",
    "    #Output layer\n",
    "    with tf.name_scope(\"output_fc_layer\"):\n",
    "        out = outputs(drp1, 10)\n",
    "    return out"
   ]
  },
  {
   "cell_type": "markdown",
   "metadata": {},
   "source": [
    "## Display Stats"
   ]
  },
  {
   "cell_type": "code",
   "execution_count": 13,
   "metadata": {
    "collapsed": true
   },
   "outputs": [],
   "source": [
    "def display_stats(sess, batch_train, batch_train_labels, batch_val, batch_val_labels, cost, accuracy, writer, step):\n",
    "    \"\"\"\n",
    "    Display intermediate results.\n",
    "    \"\"\"\n",
    "    train_data = sess.run([accuracy, summ, cost], feed_dict={\n",
    "        inputs: batch_train, targets: batch_train_labels, keep_prob: 1.0, learning_rate:0.0001})\n",
    "    val_data =sess.run([accuracy, cost], feed_dict={\n",
    "        inputs: batch_val, targets: batch_val_labels, keep_prob: 1.0, learning_rate:0.0001})\n",
    "    \n",
    "    writer.add_summary(train_data[1])\n",
    "    \n",
    "    print(\"Step {} Train_Loss : {:>10.4f} Train_Accuracy : {:.6f} Val_Loss : {:>10.4f} Val_Accuracy : {:.6f}\"\n",
    "         .format(step, train_data[2], train_data[0], val_data[0], val_data[1]))\n",
    "    return"
   ]
  },
  {
   "cell_type": "markdown",
   "metadata": {},
   "source": [
    "## Construct graph"
   ]
  },
  {
   "cell_type": "code",
   "execution_count": 14,
   "metadata": {
    "collapsed": true
   },
   "outputs": [],
   "source": [
    "tf.reset_default_graph()\n",
    "\n",
    "#Initialise Session\n",
    "sess = tf.Session()\n",
    "\n",
    "#Inputs\n",
    "inputs, targets, keep_prob, learning_rate = input_placeholders()\n",
    "\n",
    "#Model\n",
    "logits = cnn(inputs, keep_prob)\n",
    "\n",
    "#Loss Function\n",
    "with tf.name_scope(\"Loss_Function\"):\n",
    "    cross_entropy = tf.reduce_mean(\n",
    "            tf.nn.softmax_cross_entropy_with_logits(labels=targets, logits=logits))\n",
    "    tf.summary.scalar(\"loss\", cross_entropy)\n",
    "\n",
    "#Optimizer\n",
    "with tf.name_scope(\"Optimizer\"):\n",
    "    train_step = tf.train.AdamOptimizer(learning_rate=learning_rate).minimize(cross_entropy)\n",
    "\n",
    "# Report Accuracy\n",
    "with tf.name_scope(\"Accuracy\"):\n",
    "    correct_prediction = tf.equal(tf.argmax(logits, 1), tf.argmax(targets, 1))\n",
    "    accuracy = tf.reduce_mean(tf.cast(correct_prediction, tf.float32))\n",
    "    tf.summary.scalar(\"Accuracy\", accuracy)\n",
    "\n",
    "#Define variable to save summaries\n",
    "summ = tf.summary.merge_all()\n",
    "\n",
    "#Initialise all variables\n",
    "sess.run(tf.global_variables_initializer())\n",
    "\n",
    "#Create a saver object to save the model\n",
    "saver = tf.train.Saver()\n",
    "\n",
    "#Write Graph to Tensorboard\n",
    "!rm -r log/\n",
    "writer = tf.summary.FileWriter(\"log/\")\n",
    "writer.add_graph(sess.graph)"
   ]
  },
  {
   "cell_type": "markdown",
   "metadata": {},
   "source": [
    "## Start Training"
   ]
  },
  {
   "cell_type": "code",
   "execution_count": 15,
   "metadata": {},
   "outputs": [
    {
     "name": "stdout",
     "output_type": "stream",
     "text": [
      "Step 0 Train_Loss :    18.0040 Train_Accuracy : 0.080000 Val_Loss :     0.0986 Val_Accuracy : 16.331438\n",
      "Step 100 Train_Loss :     1.3942 Train_Accuracy : 0.500000 Val_Loss :     0.6164 Val_Accuracy : 1.268946\n",
      "Step 200 Train_Loss :     0.8924 Train_Accuracy : 0.740000 Val_Loss :     0.8110 Val_Accuracy : 0.672059\n",
      "Step 300 Train_Loss :     0.2988 Train_Accuracy : 0.960000 Val_Loss :     0.8770 Val_Accuracy : 0.466590\n",
      "Step 400 Train_Loss :     0.4507 Train_Accuracy : 0.860000 Val_Loss :     0.8928 Val_Accuracy : 0.391549\n",
      "Step 500 Train_Loss :     0.4702 Train_Accuracy : 0.900000 Val_Loss :     0.9072 Val_Accuracy : 0.344046\n",
      "Step 600 Train_Loss :     0.4108 Train_Accuracy : 0.840000 Val_Loss :     0.9220 Val_Accuracy : 0.289190\n",
      "Step 700 Train_Loss :     0.1316 Train_Accuracy : 0.980000 Val_Loss :     0.9218 Val_Accuracy : 0.270509\n",
      "Step 800 Train_Loss :     0.1041 Train_Accuracy : 1.000000 Val_Loss :     0.9358 Val_Accuracy : 0.231991\n",
      "Step 900 Train_Loss :     0.1834 Train_Accuracy : 0.960000 Val_Loss :     0.9378 Val_Accuracy : 0.222914\n",
      "Step 1000 Train_Loss :     0.2540 Train_Accuracy : 0.920000 Val_Loss :     0.9428 Val_Accuracy : 0.197022\n",
      "Step 1100 Train_Loss :     0.3929 Train_Accuracy : 0.840000 Val_Loss :     0.9446 Val_Accuracy : 0.196493\n",
      "Step 1200 Train_Loss :     0.2520 Train_Accuracy : 0.920000 Val_Loss :     0.9494 Val_Accuracy : 0.180669\n",
      "Step 1300 Train_Loss :     0.1560 Train_Accuracy : 0.960000 Val_Loss :     0.9530 Val_Accuracy : 0.163445\n",
      "Step 1400 Train_Loss :     0.1866 Train_Accuracy : 0.920000 Val_Loss :     0.9542 Val_Accuracy : 0.160625\n",
      "Step 1500 Train_Loss :     0.2264 Train_Accuracy : 0.920000 Val_Loss :     0.9578 Val_Accuracy : 0.151138\n",
      "Step 1600 Train_Loss :     0.1061 Train_Accuracy : 0.960000 Val_Loss :     0.9592 Val_Accuracy : 0.137988\n",
      "Step 1700 Train_Loss :     0.0344 Train_Accuracy : 1.000000 Val_Loss :     0.9634 Val_Accuracy : 0.132332\n",
      "Step 1800 Train_Loss :     0.0435 Train_Accuracy : 1.000000 Val_Loss :     0.9628 Val_Accuracy : 0.127314\n",
      "Step 1900 Train_Loss :     0.2228 Train_Accuracy : 0.900000 Val_Loss :     0.9634 Val_Accuracy : 0.125571\n",
      "Step 2000 Train_Loss :     0.2497 Train_Accuracy : 0.920000 Val_Loss :     0.9686 Val_Accuracy : 0.116098\n",
      "Step 2100 Train_Loss :     0.0629 Train_Accuracy : 1.000000 Val_Loss :     0.9694 Val_Accuracy : 0.107498\n",
      "Step 2200 Train_Loss :     0.1494 Train_Accuracy : 0.940000 Val_Loss :     0.9698 Val_Accuracy : 0.108592\n",
      "Step 2300 Train_Loss :     0.0137 Train_Accuracy : 1.000000 Val_Loss :     0.9692 Val_Accuracy : 0.109522\n",
      "Step 2400 Train_Loss :     0.0615 Train_Accuracy : 1.000000 Val_Loss :     0.9714 Val_Accuracy : 0.100295\n",
      "Step 2500 Train_Loss :     0.1033 Train_Accuracy : 0.960000 Val_Loss :     0.9700 Val_Accuracy : 0.105276\n",
      "Step 2600 Train_Loss :     0.1011 Train_Accuracy : 0.980000 Val_Loss :     0.9688 Val_Accuracy : 0.106657\n",
      "Step 2700 Train_Loss :     0.0452 Train_Accuracy : 1.000000 Val_Loss :     0.9720 Val_Accuracy : 0.094321\n",
      "Step 2800 Train_Loss :     0.0460 Train_Accuracy : 1.000000 Val_Loss :     0.9760 Val_Accuracy : 0.088575\n",
      "Step 2900 Train_Loss :     0.1325 Train_Accuracy : 0.940000 Val_Loss :     0.9744 Val_Accuracy : 0.087677\n",
      "Step 3000 Train_Loss :     0.1770 Train_Accuracy : 0.960000 Val_Loss :     0.9720 Val_Accuracy : 0.087401\n",
      "Step 3100 Train_Loss :     0.0354 Train_Accuracy : 1.000000 Val_Loss :     0.9778 Val_Accuracy : 0.084681\n",
      "Step 3200 Train_Loss :     0.0715 Train_Accuracy : 0.980000 Val_Loss :     0.9756 Val_Accuracy : 0.090824\n",
      "Step 3300 Train_Loss :     0.1324 Train_Accuracy : 0.980000 Val_Loss :     0.9778 Val_Accuracy : 0.080451\n",
      "Step 3400 Train_Loss :     0.0462 Train_Accuracy : 0.980000 Val_Loss :     0.9752 Val_Accuracy : 0.081699\n",
      "Step 3500 Train_Loss :     0.0725 Train_Accuracy : 0.980000 Val_Loss :     0.9782 Val_Accuracy : 0.076514\n",
      "Step 3600 Train_Loss :     0.0189 Train_Accuracy : 1.000000 Val_Loss :     0.9780 Val_Accuracy : 0.077324\n",
      "Step 3700 Train_Loss :     0.0434 Train_Accuracy : 0.980000 Val_Loss :     0.9782 Val_Accuracy : 0.075863\n",
      "Step 3800 Train_Loss :     0.0180 Train_Accuracy : 1.000000 Val_Loss :     0.9786 Val_Accuracy : 0.072037\n",
      "Step 3900 Train_Loss :     0.1195 Train_Accuracy : 0.940000 Val_Loss :     0.9798 Val_Accuracy : 0.072408\n",
      "Step 4000 Train_Loss :     0.0087 Train_Accuracy : 1.000000 Val_Loss :     0.9786 Val_Accuracy : 0.072705\n",
      "Step 4100 Train_Loss :     0.0570 Train_Accuracy : 0.980000 Val_Loss :     0.9806 Val_Accuracy : 0.064491\n",
      "Step 4200 Train_Loss :     0.0114 Train_Accuracy : 1.000000 Val_Loss :     0.9820 Val_Accuracy : 0.065699\n",
      "Step 4300 Train_Loss :     0.0822 Train_Accuracy : 0.980000 Val_Loss :     0.9812 Val_Accuracy : 0.062599\n",
      "Step 4400 Train_Loss :     0.0404 Train_Accuracy : 0.980000 Val_Loss :     0.9832 Val_Accuracy : 0.061123\n",
      "Step 4500 Train_Loss :     0.2025 Train_Accuracy : 0.980000 Val_Loss :     0.9796 Val_Accuracy : 0.074735\n",
      "Step 4600 Train_Loss :     0.0476 Train_Accuracy : 0.980000 Val_Loss :     0.9812 Val_Accuracy : 0.062600\n",
      "Step 4700 Train_Loss :     0.0287 Train_Accuracy : 1.000000 Val_Loss :     0.9824 Val_Accuracy : 0.060030\n",
      "Step 4800 Train_Loss :     0.0213 Train_Accuracy : 1.000000 Val_Loss :     0.9826 Val_Accuracy : 0.060839\n",
      "Step 4900 Train_Loss :     0.0349 Train_Accuracy : 0.980000 Val_Loss :     0.9830 Val_Accuracy : 0.059354\n",
      "Step 5000 Train_Loss :     0.0170 Train_Accuracy : 1.000000 Val_Loss :     0.9788 Val_Accuracy : 0.063433\n",
      "Step 5100 Train_Loss :     0.0103 Train_Accuracy : 1.000000 Val_Loss :     0.9840 Val_Accuracy : 0.054610\n",
      "Step 5200 Train_Loss :     0.0178 Train_Accuracy : 1.000000 Val_Loss :     0.9812 Val_Accuracy : 0.060970\n",
      "Step 5300 Train_Loss :     0.0029 Train_Accuracy : 1.000000 Val_Loss :     0.9826 Val_Accuracy : 0.061545\n",
      "Step 5400 Train_Loss :     0.0396 Train_Accuracy : 0.980000 Val_Loss :     0.9832 Val_Accuracy : 0.061690\n",
      "Step 5500 Train_Loss :     0.1128 Train_Accuracy : 0.960000 Val_Loss :     0.9832 Val_Accuracy : 0.058558\n",
      "Step 5600 Train_Loss :     0.0155 Train_Accuracy : 1.000000 Val_Loss :     0.9850 Val_Accuracy : 0.052261\n",
      "Step 5700 Train_Loss :     0.1200 Train_Accuracy : 0.980000 Val_Loss :     0.9844 Val_Accuracy : 0.055920\n",
      "Step 5800 Train_Loss :     0.0319 Train_Accuracy : 1.000000 Val_Loss :     0.9820 Val_Accuracy : 0.061906\n",
      "Step 5900 Train_Loss :     0.0093 Train_Accuracy : 1.000000 Val_Loss :     0.9840 Val_Accuracy : 0.057168\n",
      "Step 6000 Train_Loss :     0.0040 Train_Accuracy : 1.000000 Val_Loss :     0.9854 Val_Accuracy : 0.052409\n",
      "Step 6100 Train_Loss :     0.0345 Train_Accuracy : 0.980000 Val_Loss :     0.9848 Val_Accuracy : 0.053774\n",
      "Step 6200 Train_Loss :     0.0597 Train_Accuracy : 0.960000 Val_Loss :     0.9850 Val_Accuracy : 0.051358\n",
      "Step 6300 Train_Loss :     0.0173 Train_Accuracy : 1.000000 Val_Loss :     0.9860 Val_Accuracy : 0.049341\n",
      "Step 6400 Train_Loss :     0.0054 Train_Accuracy : 1.000000 Val_Loss :     0.9844 Val_Accuracy : 0.059999\n",
      "Step 6500 Train_Loss :     0.0043 Train_Accuracy : 1.000000 Val_Loss :     0.9856 Val_Accuracy : 0.052012\n",
      "Step 6600 Train_Loss :     0.0072 Train_Accuracy : 1.000000 Val_Loss :     0.9850 Val_Accuracy : 0.050640\n",
      "Step 6700 Train_Loss :     0.0080 Train_Accuracy : 1.000000 Val_Loss :     0.9864 Val_Accuracy : 0.047730\n",
      "Step 6800 Train_Loss :     0.1152 Train_Accuracy : 0.980000 Val_Loss :     0.9870 Val_Accuracy : 0.047049\n",
      "Step 6900 Train_Loss :     0.0760 Train_Accuracy : 0.980000 Val_Loss :     0.9844 Val_Accuracy : 0.056238\n",
      "Step 7000 Train_Loss :     0.0031 Train_Accuracy : 1.000000 Val_Loss :     0.9856 Val_Accuracy : 0.046399\n",
      "Step 7100 Train_Loss :     0.1087 Train_Accuracy : 0.960000 Val_Loss :     0.9864 Val_Accuracy : 0.046637\n",
      "Step 7200 Train_Loss :     0.0376 Train_Accuracy : 0.980000 Val_Loss :     0.9862 Val_Accuracy : 0.045977\n",
      "Step 7300 Train_Loss :     0.0404 Train_Accuracy : 0.980000 Val_Loss :     0.9874 Val_Accuracy : 0.046434\n",
      "Step 7400 Train_Loss :     0.0084 Train_Accuracy : 1.000000 Val_Loss :     0.9864 Val_Accuracy : 0.045268\n",
      "Step 7500 Train_Loss :     0.1250 Train_Accuracy : 0.980000 Val_Loss :     0.9866 Val_Accuracy : 0.045902\n",
      "Step 7600 Train_Loss :     0.0100 Train_Accuracy : 1.000000 Val_Loss :     0.9862 Val_Accuracy : 0.045391\n",
      "Step 7700 Train_Loss :     0.0182 Train_Accuracy : 1.000000 Val_Loss :     0.9880 Val_Accuracy : 0.045075\n"
     ]
    },
    {
     "name": "stdout",
     "output_type": "stream",
     "text": [
      "Step 7800 Train_Loss :     0.0610 Train_Accuracy : 0.980000 Val_Loss :     0.9870 Val_Accuracy : 0.043238\n",
      "Step 7900 Train_Loss :     0.0018 Train_Accuracy : 1.000000 Val_Loss :     0.9876 Val_Accuracy : 0.041158\n",
      "Step 8000 Train_Loss :     0.0229 Train_Accuracy : 1.000000 Val_Loss :     0.9876 Val_Accuracy : 0.044080\n",
      "Step 8100 Train_Loss :     0.0016 Train_Accuracy : 1.000000 Val_Loss :     0.9874 Val_Accuracy : 0.044476\n",
      "Step 8200 Train_Loss :     0.0339 Train_Accuracy : 0.980000 Val_Loss :     0.9882 Val_Accuracy : 0.042768\n",
      "Step 8300 Train_Loss :     0.0154 Train_Accuracy : 1.000000 Val_Loss :     0.9876 Val_Accuracy : 0.045025\n",
      "Step 8400 Train_Loss :     0.0041 Train_Accuracy : 1.000000 Val_Loss :     0.9898 Val_Accuracy : 0.038930\n",
      "Step 8500 Train_Loss :     0.0373 Train_Accuracy : 0.980000 Val_Loss :     0.9884 Val_Accuracy : 0.042329\n",
      "Step 8600 Train_Loss :     0.0055 Train_Accuracy : 1.000000 Val_Loss :     0.9878 Val_Accuracy : 0.042309\n",
      "Step 8700 Train_Loss :     0.0396 Train_Accuracy : 0.980000 Val_Loss :     0.9874 Val_Accuracy : 0.044206\n",
      "Step 8800 Train_Loss :     0.0055 Train_Accuracy : 1.000000 Val_Loss :     0.9872 Val_Accuracy : 0.041124\n",
      "Step 8900 Train_Loss :     0.0080 Train_Accuracy : 1.000000 Val_Loss :     0.9870 Val_Accuracy : 0.042564\n",
      "Step 9000 Train_Loss :     0.0056 Train_Accuracy : 1.000000 Val_Loss :     0.9882 Val_Accuracy : 0.042679\n",
      "Step 9100 Train_Loss :     0.0603 Train_Accuracy : 0.980000 Val_Loss :     0.9890 Val_Accuracy : 0.041037\n",
      "Step 9200 Train_Loss :     0.0800 Train_Accuracy : 0.980000 Val_Loss :     0.9884 Val_Accuracy : 0.040278\n",
      "Step 9300 Train_Loss :     0.0349 Train_Accuracy : 1.000000 Val_Loss :     0.9882 Val_Accuracy : 0.041113\n",
      "Step 9400 Train_Loss :     0.0499 Train_Accuracy : 0.980000 Val_Loss :     0.9878 Val_Accuracy : 0.042300\n",
      "Step 9500 Train_Loss :     0.0074 Train_Accuracy : 1.000000 Val_Loss :     0.9878 Val_Accuracy : 0.039863\n",
      "Step 9600 Train_Loss :     0.0229 Train_Accuracy : 1.000000 Val_Loss :     0.9884 Val_Accuracy : 0.036135\n",
      "Step 9700 Train_Loss :     0.0281 Train_Accuracy : 0.980000 Val_Loss :     0.9898 Val_Accuracy : 0.037312\n",
      "Step 9800 Train_Loss :     0.0362 Train_Accuracy : 0.980000 Val_Loss :     0.9892 Val_Accuracy : 0.042561\n",
      "Step 9900 Train_Loss :     0.0129 Train_Accuracy : 1.000000 Val_Loss :     0.9904 Val_Accuracy : 0.036060\n",
      "Step 10000 Train_Loss :     0.0399 Train_Accuracy : 0.980000 Val_Loss :     0.9894 Val_Accuracy : 0.039917\n",
      "Step 10100 Train_Loss :     0.0139 Train_Accuracy : 1.000000 Val_Loss :     0.9894 Val_Accuracy : 0.036556\n",
      "Step 10200 Train_Loss :     0.0087 Train_Accuracy : 1.000000 Val_Loss :     0.9882 Val_Accuracy : 0.039305\n",
      "Step 10300 Train_Loss :     0.0017 Train_Accuracy : 1.000000 Val_Loss :     0.9892 Val_Accuracy : 0.037867\n",
      "Step 10400 Train_Loss :     0.0090 Train_Accuracy : 1.000000 Val_Loss :     0.9894 Val_Accuracy : 0.038205\n",
      "Step 10500 Train_Loss :     0.0041 Train_Accuracy : 1.000000 Val_Loss :     0.9886 Val_Accuracy : 0.038533\n",
      "Step 10600 Train_Loss :     0.0018 Train_Accuracy : 1.000000 Val_Loss :     0.9898 Val_Accuracy : 0.035424\n",
      "Step 10700 Train_Loss :     0.0007 Train_Accuracy : 1.000000 Val_Loss :     0.9884 Val_Accuracy : 0.041777\n",
      "Step 10800 Train_Loss :     0.0035 Train_Accuracy : 1.000000 Val_Loss :     0.9886 Val_Accuracy : 0.035611\n",
      "Step 10900 Train_Loss :     0.0076 Train_Accuracy : 1.000000 Val_Loss :     0.9892 Val_Accuracy : 0.034914\n",
      "Step 11000 Train_Loss :     0.0440 Train_Accuracy : 0.980000 Val_Loss :     0.9886 Val_Accuracy : 0.040337\n",
      "Step 11100 Train_Loss :     0.0049 Train_Accuracy : 1.000000 Val_Loss :     0.9898 Val_Accuracy : 0.038894\n",
      "Step 11200 Train_Loss :     0.0257 Train_Accuracy : 1.000000 Val_Loss :     0.9890 Val_Accuracy : 0.037598\n",
      "Step 11300 Train_Loss :     0.0106 Train_Accuracy : 1.000000 Val_Loss :     0.9886 Val_Accuracy : 0.040056\n",
      "Step 11400 Train_Loss :     0.0085 Train_Accuracy : 1.000000 Val_Loss :     0.9898 Val_Accuracy : 0.037853\n",
      "Step 11500 Train_Loss :     0.0688 Train_Accuracy : 0.960000 Val_Loss :     0.9898 Val_Accuracy : 0.037745\n",
      "Step 11600 Train_Loss :     0.0160 Train_Accuracy : 1.000000 Val_Loss :     0.9904 Val_Accuracy : 0.036556\n",
      "Step 11700 Train_Loss :     0.0450 Train_Accuracy : 0.980000 Val_Loss :     0.9892 Val_Accuracy : 0.036374\n",
      "Step 11800 Train_Loss :     0.0181 Train_Accuracy : 1.000000 Val_Loss :     0.9894 Val_Accuracy : 0.038363\n",
      "Step 11900 Train_Loss :     0.0099 Train_Accuracy : 1.000000 Val_Loss :     0.9892 Val_Accuracy : 0.038002\n",
      "Step 12000 Train_Loss :     0.0142 Train_Accuracy : 1.000000 Val_Loss :     0.9894 Val_Accuracy : 0.038163\n",
      "Step 12100 Train_Loss :     0.0123 Train_Accuracy : 1.000000 Val_Loss :     0.9886 Val_Accuracy : 0.037891\n",
      "Step 12200 Train_Loss :     0.1107 Train_Accuracy : 0.980000 Val_Loss :     0.9894 Val_Accuracy : 0.036604\n",
      "Step 12300 Train_Loss :     0.0036 Train_Accuracy : 1.000000 Val_Loss :     0.9886 Val_Accuracy : 0.037255\n",
      "Step 12400 Train_Loss :     0.0401 Train_Accuracy : 0.980000 Val_Loss :     0.9894 Val_Accuracy : 0.037350\n",
      "Step 12500 Train_Loss :     0.0004 Train_Accuracy : 1.000000 Val_Loss :     0.9914 Val_Accuracy : 0.035549\n",
      "Step 12600 Train_Loss :     0.0017 Train_Accuracy : 1.000000 Val_Loss :     0.9904 Val_Accuracy : 0.034898\n",
      "Step 12700 Train_Loss :     0.0007 Train_Accuracy : 1.000000 Val_Loss :     0.9910 Val_Accuracy : 0.034894\n",
      "Step 12800 Train_Loss :     0.0255 Train_Accuracy : 0.980000 Val_Loss :     0.9892 Val_Accuracy : 0.038537\n",
      "Step 12900 Train_Loss :     0.0117 Train_Accuracy : 1.000000 Val_Loss :     0.9904 Val_Accuracy : 0.034942\n",
      "Step 13000 Train_Loss :     0.0092 Train_Accuracy : 1.000000 Val_Loss :     0.9888 Val_Accuracy : 0.040802\n",
      "Step 13100 Train_Loss :     0.0180 Train_Accuracy : 1.000000 Val_Loss :     0.9906 Val_Accuracy : 0.035375\n",
      "Step 13200 Train_Loss :     0.0018 Train_Accuracy : 1.000000 Val_Loss :     0.9898 Val_Accuracy : 0.038106\n",
      "Step 13300 Train_Loss :     0.0027 Train_Accuracy : 1.000000 Val_Loss :     0.9902 Val_Accuracy : 0.037417\n",
      "Step 13400 Train_Loss :     0.0049 Train_Accuracy : 1.000000 Val_Loss :     0.9874 Val_Accuracy : 0.041441\n",
      "Step 13500 Train_Loss :     0.0210 Train_Accuracy : 0.980000 Val_Loss :     0.9878 Val_Accuracy : 0.038040\n",
      "Step 13600 Train_Loss :     0.0024 Train_Accuracy : 1.000000 Val_Loss :     0.9906 Val_Accuracy : 0.035426\n",
      "Step 13700 Train_Loss :     0.0013 Train_Accuracy : 1.000000 Val_Loss :     0.9904 Val_Accuracy : 0.034665\n",
      "Step 13800 Train_Loss :     0.0049 Train_Accuracy : 1.000000 Val_Loss :     0.9906 Val_Accuracy : 0.036040\n",
      "Step 13900 Train_Loss :     0.0205 Train_Accuracy : 0.980000 Val_Loss :     0.9910 Val_Accuracy : 0.036685\n",
      "Step 14000 Train_Loss :     0.0269 Train_Accuracy : 1.000000 Val_Loss :     0.9902 Val_Accuracy : 0.033345\n",
      "Step 14100 Train_Loss :     0.0294 Train_Accuracy : 0.980000 Val_Loss :     0.9900 Val_Accuracy : 0.036893\n",
      "Step 14200 Train_Loss :     0.0062 Train_Accuracy : 1.000000 Val_Loss :     0.9918 Val_Accuracy : 0.030976\n",
      "Step 14300 Train_Loss :     0.0023 Train_Accuracy : 1.000000 Val_Loss :     0.9906 Val_Accuracy : 0.036908\n",
      "Step 14400 Train_Loss :     0.0011 Train_Accuracy : 1.000000 Val_Loss :     0.9912 Val_Accuracy : 0.032546\n",
      "Step 14500 Train_Loss :     0.0033 Train_Accuracy : 1.000000 Val_Loss :     0.9906 Val_Accuracy : 0.032558\n",
      "Step 14600 Train_Loss :     0.0006 Train_Accuracy : 1.000000 Val_Loss :     0.9910 Val_Accuracy : 0.033750\n",
      "Step 14700 Train_Loss :     0.0001 Train_Accuracy : 1.000000 Val_Loss :     0.9910 Val_Accuracy : 0.033230\n",
      "Step 14800 Train_Loss :     0.0717 Train_Accuracy : 0.980000 Val_Loss :     0.9914 Val_Accuracy : 0.032922\n",
      "Step 14900 Train_Loss :     0.0121 Train_Accuracy : 1.000000 Val_Loss :     0.9904 Val_Accuracy : 0.037019\n",
      "Step 15000 Train_Loss :     0.0016 Train_Accuracy : 1.000000 Val_Loss :     0.9892 Val_Accuracy : 0.035592\n",
      "Step 15100 Train_Loss :     0.0309 Train_Accuracy : 0.980000 Val_Loss :     0.9898 Val_Accuracy : 0.034584\n",
      "Step 15200 Train_Loss :     0.0027 Train_Accuracy : 1.000000 Val_Loss :     0.9908 Val_Accuracy : 0.033640\n",
      "Step 15300 Train_Loss :     0.0069 Train_Accuracy : 1.000000 Val_Loss :     0.9908 Val_Accuracy : 0.030776\n",
      "Step 15400 Train_Loss :     0.0128 Train_Accuracy : 1.000000 Val_Loss :     0.9910 Val_Accuracy : 0.032419\n"
     ]
    },
    {
     "name": "stdout",
     "output_type": "stream",
     "text": [
      "Step 15500 Train_Loss :     0.0143 Train_Accuracy : 1.000000 Val_Loss :     0.9920 Val_Accuracy : 0.032144\n",
      "Step 15600 Train_Loss :     0.0012 Train_Accuracy : 1.000000 Val_Loss :     0.9916 Val_Accuracy : 0.036387\n",
      "Step 15700 Train_Loss :     0.0004 Train_Accuracy : 1.000000 Val_Loss :     0.9916 Val_Accuracy : 0.033052\n",
      "Step 15800 Train_Loss :     0.0038 Train_Accuracy : 1.000000 Val_Loss :     0.9920 Val_Accuracy : 0.032052\n",
      "Step 15900 Train_Loss :     0.0028 Train_Accuracy : 1.000000 Val_Loss :     0.9918 Val_Accuracy : 0.034141\n",
      "Step 16000 Train_Loss :     0.0321 Train_Accuracy : 0.980000 Val_Loss :     0.9908 Val_Accuracy : 0.032138\n",
      "Step 16100 Train_Loss :     0.0044 Train_Accuracy : 1.000000 Val_Loss :     0.9916 Val_Accuracy : 0.036724\n",
      "Step 16200 Train_Loss :     0.0013 Train_Accuracy : 1.000000 Val_Loss :     0.9922 Val_Accuracy : 0.032660\n",
      "Step 16300 Train_Loss :     0.0013 Train_Accuracy : 1.000000 Val_Loss :     0.9910 Val_Accuracy : 0.033202\n",
      "Step 16400 Train_Loss :     0.0251 Train_Accuracy : 1.000000 Val_Loss :     0.9908 Val_Accuracy : 0.032137\n",
      "Step 16500 Train_Loss :     0.0136 Train_Accuracy : 1.000000 Val_Loss :     0.9918 Val_Accuracy : 0.034976\n",
      "Step 16600 Train_Loss :     0.0016 Train_Accuracy : 1.000000 Val_Loss :     0.9922 Val_Accuracy : 0.031756\n",
      "Step 16700 Train_Loss :     0.0191 Train_Accuracy : 1.000000 Val_Loss :     0.9916 Val_Accuracy : 0.035944\n",
      "Step 16800 Train_Loss :     0.0018 Train_Accuracy : 1.000000 Val_Loss :     0.9916 Val_Accuracy : 0.034888\n",
      "Step 16900 Train_Loss :     0.0014 Train_Accuracy : 1.000000 Val_Loss :     0.9920 Val_Accuracy : 0.031565\n",
      "Step 17000 Train_Loss :     0.0013 Train_Accuracy : 1.000000 Val_Loss :     0.9914 Val_Accuracy : 0.031881\n",
      "Step 17100 Train_Loss :     0.0092 Train_Accuracy : 1.000000 Val_Loss :     0.9902 Val_Accuracy : 0.035450\n",
      "Step 17200 Train_Loss :     0.0001 Train_Accuracy : 1.000000 Val_Loss :     0.9918 Val_Accuracy : 0.032031\n",
      "Step 17300 Train_Loss :     0.0049 Train_Accuracy : 1.000000 Val_Loss :     0.9922 Val_Accuracy : 0.031492\n",
      "Step 17400 Train_Loss :     0.0013 Train_Accuracy : 1.000000 Val_Loss :     0.9912 Val_Accuracy : 0.031890\n",
      "Step 17500 Train_Loss :     0.0507 Train_Accuracy : 0.960000 Val_Loss :     0.9902 Val_Accuracy : 0.032445\n",
      "Step 17600 Train_Loss :     0.0039 Train_Accuracy : 1.000000 Val_Loss :     0.9924 Val_Accuracy : 0.033076\n",
      "Step 17700 Train_Loss :     0.0011 Train_Accuracy : 1.000000 Val_Loss :     0.9928 Val_Accuracy : 0.031508\n",
      "Step 17800 Train_Loss :     0.0006 Train_Accuracy : 1.000000 Val_Loss :     0.9916 Val_Accuracy : 0.031189\n",
      "Step 17900 Train_Loss :     0.0003 Train_Accuracy : 1.000000 Val_Loss :     0.9914 Val_Accuracy : 0.033745\n",
      "Step 18000 Train_Loss :     0.0023 Train_Accuracy : 1.000000 Val_Loss :     0.9916 Val_Accuracy : 0.030529\n",
      "Step 18100 Train_Loss :     0.0195 Train_Accuracy : 0.980000 Val_Loss :     0.9906 Val_Accuracy : 0.033637\n",
      "Step 18200 Train_Loss :     0.0070 Train_Accuracy : 1.000000 Val_Loss :     0.9918 Val_Accuracy : 0.032624\n",
      "Step 18300 Train_Loss :     0.0001 Train_Accuracy : 1.000000 Val_Loss :     0.9908 Val_Accuracy : 0.034283\n",
      "Step 18400 Train_Loss :     0.0018 Train_Accuracy : 1.000000 Val_Loss :     0.9922 Val_Accuracy : 0.030015\n",
      "Step 18500 Train_Loss :     0.0053 Train_Accuracy : 1.000000 Val_Loss :     0.9924 Val_Accuracy : 0.030831\n",
      "Step 18600 Train_Loss :     0.0434 Train_Accuracy : 0.980000 Val_Loss :     0.9912 Val_Accuracy : 0.031304\n",
      "Step 18700 Train_Loss :     0.0013 Train_Accuracy : 1.000000 Val_Loss :     0.9902 Val_Accuracy : 0.039352\n",
      "Step 18800 Train_Loss :     0.0042 Train_Accuracy : 1.000000 Val_Loss :     0.9926 Val_Accuracy : 0.028511\n",
      "Step 18900 Train_Loss :     0.0007 Train_Accuracy : 1.000000 Val_Loss :     0.9922 Val_Accuracy : 0.031408\n",
      "Step 19000 Train_Loss :     0.0020 Train_Accuracy : 1.000000 Val_Loss :     0.9922 Val_Accuracy : 0.033722\n",
      "Step 19100 Train_Loss :     0.0234 Train_Accuracy : 0.980000 Val_Loss :     0.9906 Val_Accuracy : 0.033189\n",
      "Step 19200 Train_Loss :     0.0001 Train_Accuracy : 1.000000 Val_Loss :     0.9916 Val_Accuracy : 0.032438\n",
      "Step 19300 Train_Loss :     0.0043 Train_Accuracy : 1.000000 Val_Loss :     0.9922 Val_Accuracy : 0.032447\n",
      "Step 19400 Train_Loss :     0.0415 Train_Accuracy : 0.980000 Val_Loss :     0.9912 Val_Accuracy : 0.033992\n",
      "Step 19500 Train_Loss :     0.3695 Train_Accuracy : 0.980000 Val_Loss :     0.9908 Val_Accuracy : 0.035715\n",
      "Step 19600 Train_Loss :     0.0007 Train_Accuracy : 1.000000 Val_Loss :     0.9920 Val_Accuracy : 0.034256\n",
      "Step 19700 Train_Loss :     0.0001 Train_Accuracy : 1.000000 Val_Loss :     0.9918 Val_Accuracy : 0.031994\n",
      "Step 19800 Train_Loss :     0.0265 Train_Accuracy : 0.980000 Val_Loss :     0.9920 Val_Accuracy : 0.034271\n",
      "Step 19900 Train_Loss :     0.0003 Train_Accuracy : 1.000000 Val_Loss :     0.9922 Val_Accuracy : 0.033382\n",
      "\n",
      "Test accuracy : 0.9914001226425171\n"
     ]
    }
   ],
   "source": [
    "for i in range(20000):\n",
    "    batch = mnist.train.next_batch(50)\n",
    "    if i % 100 == 0:\n",
    "        display_stats(sess, batch[0], batch[1], mnist.validation.images, mnist.validation.labels, \n",
    "                      cross_entropy, accuracy, writer, i)\n",
    "        saver.save(sess, 'trained/test_model')\n",
    "    sess.run(train_step,feed_dict={inputs: batch[0], targets: batch[1], keep_prob: 0.5, learning_rate:0.0001})\n",
    "\n",
    "print('\\nTest accuracy : {}'.format(sess.run(accuracy,feed_dict={\n",
    "    inputs: mnist.test.images, targets: mnist.test.labels, keep_prob: 1.0, learning_rate:0.0001})))\n",
    "\n",
    "sess.close()"
   ]
  },
  {
   "cell_type": "markdown",
   "metadata": {},
   "source": [
    "## Prediction using the Trained model"
   ]
  },
  {
   "cell_type": "code",
   "execution_count": 4,
   "metadata": {},
   "outputs": [
    {
     "name": "stdout",
     "output_type": "stream",
     "text": [
      "INFO:tensorflow:Restoring parameters from ./trained/test_model\n",
      "5\n"
     ]
    },
    {
     "data": {
      "image/png": "[encoded data removed]",
      "text/plain": [
       "<matplotlib.figure.Figure at 0x7fb0b013b6a0>"
      ]
     },
     "metadata": {},
     "output_type": "display_data"
    }
   ],
   "source": [
    "sess = tf.Session()\n",
    "\n",
    "saver=tf.train.import_meta_graph('trained/test_model.meta')\n",
    "saver.restore(sess, tf.train.latest_checkpoint('./trained/'))\n",
    "\n",
    "graph = tf.get_default_graph()\n",
    "\n",
    "output = graph.get_tensor_by_name(\"output_fc_layer/outputs:0\")\n",
    "\n",
    "inputs = graph.get_tensor_by_name(\"Inputs:0\")\n",
    "targets = graph.get_tensor_by_name(\"Labels:0\")\n",
    "keep_prob = graph.get_tensor_by_name(\"keep_prob:0\")\n",
    "learning_rate = graph.get_tensor_by_name(\"learning_rate:0\")\n",
    "\n",
    "pred = tf.nn.softmax(output)\n",
    "img_predict_index = np.random.randint(mnist.test.images.shape[0])\n",
    "img_array = 255 * mnist.test.images[img_predict_index]\n",
    "img_array = img_array.astype(\"uint8\")\n",
    "plt.imshow(img_array.reshape([28,28]))\n",
    "plt.gray()\n",
    "\n",
    "predictions = sess.run(pred, feed_dict={inputs:mnist.test.images[img_predict_index].reshape(1,784), \n",
    "                                        targets: mnist.test.labels[img_predict_index].reshape(1,10), \n",
    "                                        keep_prob:1.0, learning_rate:0.0001})\n",
    "\n",
    "print(np.argmax(predictions[0]))\n",
    "\n",
    "\n",
    "sess.close()"
   ]
  }
 ],
 "metadata": {
  "kernelspec": {
   "display_name": "Python 3",
   "language": "python",
   "name": "python3"
  },
  "language_info": {
   "codemirror_mode": {
    "name": "ipython",
    "version": 3
   },
   "file_extension": ".py",
   "mimetype": "text/x-python",
   "name": "python",
   "nbconvert_exporter": "python",
   "pygments_lexer": "ipython3",
   "version": "3.6.1"
  }
 },
 "nbformat": 4,
 "nbformat_minor": 2
}
