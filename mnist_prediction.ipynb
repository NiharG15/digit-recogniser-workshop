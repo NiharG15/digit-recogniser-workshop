{
 "cells": [
  {
   "cell_type": "markdown",
   "metadata": {},
   "source": [
    "# Prediction using Pretrained Model"
   ]
  },
  {
   "cell_type": "markdown",
   "metadata": {},
   "source": [
    "## Import dependencies"
   ]
  },
  {
   "cell_type": "code",
   "execution_count": 1,
   "metadata": {},
   "outputs": [
    {
     "name": "stdout",
     "output_type": "stream",
     "text": [
      "TensorFlow Version: 1.3.0\n"
     ]
    }
   ],
   "source": [
    "import tensorflow as tf\n",
    "import numpy as np\n",
    "import matplotlib.pyplot as plt\n",
    "from tensorflow.examples.tutorials.mnist import input_data\n",
    "from distutils.version import LooseVersion\n",
    "import warnings\n",
    "\n",
    "# Check TensorFlow Version\n",
    "assert LooseVersion(tf.__version__) >= LooseVersion('1.0'), 'Please use TensorFlow version 1.0 or newer'\n",
    "print('TensorFlow Version: {}'.format(tf.__version__))\n",
    "\n",
    "%matplotlib inline"
   ]
  },
  {
   "cell_type": "markdown",
   "metadata": {},
   "source": [
    "## Load MNIST data"
   ]
  },
  {
   "cell_type": "code",
   "execution_count": 2,
   "metadata": {},
   "outputs": [
    {
     "name": "stdout",
     "output_type": "stream",
     "text": [
      "Extracting MNIST_data/train-images-idx3-ubyte.gz\n",
      "Extracting MNIST_data/train-labels-idx1-ubyte.gz\n",
      "Extracting MNIST_data/t10k-images-idx3-ubyte.gz\n",
      "Extracting MNIST_data/t10k-labels-idx1-ubyte.gz\n"
     ]
    }
   ],
   "source": [
    "mnist = input_data.read_data_sets('MNIST_data/', one_hot=True)"
   ]
  },
  {
   "cell_type": "markdown",
   "metadata": {},
   "source": [
    "## Restore model and predict on test data "
   ]
  },
  {
   "cell_type": "code",
   "execution_count": 4,
   "metadata": {},
   "outputs": [
    {
     "name": "stdout",
     "output_type": "stream",
     "text": [
      "INFO:tensorflow:Restoring parameters from ./trained/test_model\n",
      "Ground Truth Value of image :  6\n",
      "Predicted Value of image :  6\n"
     ]
    },
    {
     "data": {
      "image/png": "[encoded data removed]",
      "text/plain": [
       "<matplotlib.figure.Figure at 0x7f4f6bd909b0>"
      ]
     },
     "metadata": {},
     "output_type": "display_data"
    }
   ],
   "source": [
    "sess = tf.Session()\n",
    "\n",
    "saver=tf.train.import_meta_graph('trained/test_model.meta')\n",
    "saver.restore(sess, tf.train.latest_checkpoint('./trained/'))\n",
    "\n",
    "graph = tf.get_default_graph()\n",
    "\n",
    "output = graph.get_tensor_by_name(\"output_fc_layer/outputs:0\")\n",
    "\n",
    "inputs = graph.get_tensor_by_name(\"Inputs:0\")\n",
    "targets = graph.get_tensor_by_name(\"Labels:0\")\n",
    "keep_prob = graph.get_tensor_by_name(\"keep_prob:0\")\n",
    "learning_rate = graph.get_tensor_by_name(\"learning_rate:0\")\n",
    "\n",
    "pred = tf.nn.softmax(output)\n",
    "img_predict_index = np.random.randint(mnist.test.images.shape[0])\n",
    "img_array = 255 * mnist.test.images[img_predict_index]\n",
    "img_array = img_array.astype(\"uint8\")\n",
    "plt.imshow(img_array.reshape([28,28]))\n",
    "plt.gray()\n",
    "\n",
    "predictions = sess.run(pred, feed_dict={inputs:mnist.test.images[img_predict_index].reshape(1,784), \n",
    "                                        targets: mnist.test.labels[img_predict_index].reshape(1,10), \n",
    "                                        keep_prob:1.0, learning_rate:0.0001})\n",
    "\n",
    "print(\"Ground Truth Value of image : \", np.argmax(mnist.test.labels[img_predict_index]))\n",
    "print(\"Predicted Value of image : \",np.argmax(predictions[0]))\n",
    "\n",
    "sess.close()"
   ]
  }
 ],
 "metadata": {
  "kernelspec": {
   "display_name": "Python 3",
   "language": "python",
   "name": "python3"
  },
  "language_info": {
   "codemirror_mode": {
    "name": "ipython",
    "version": 3
   },
   "file_extension": ".py",
   "mimetype": "text/x-python",
   "name": "python",
   "nbconvert_exporter": "python",
   "pygments_lexer": "ipython3",
   "version": "3.6.1"
  }
 },
 "nbformat": 4,
 "nbformat_minor": 2
}
